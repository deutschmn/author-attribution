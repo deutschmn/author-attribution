{
 "cells": [
  {
   "cell_type": "code",
   "execution_count": null,
   "metadata": {
    "collapsed": true
   },
   "outputs": [],
   "source": [
    "from google.colab import drive\n"
   ]
  },
  {
   "cell_type": "code",
   "execution_count": null,
   "outputs": [],
   "source": [
    "drive.mount('/content/gdrive')"
   ],
   "metadata": {
    "collapsed": false,
    "pycharm": {
     "name": "#%%\n"
    }
   }
  },
  {
   "cell_type": "code",
   "execution_count": null,
   "outputs": [],
   "source": [
    "!ls -la /content/gdrive/My\\ Drive/ColabData"
   ],
   "metadata": {
    "collapsed": false,
    "pycharm": {
     "name": "#%%\n"
    }
   }
  },
  {
   "cell_type": "code",
   "execution_count": null,
   "outputs": [],
   "source": [
    "import pandas\n",
    "\n",
    "articles = pandas.read_pickle('/content/gdrive/My Drive/ColabData/articles.pkl')"
   ],
   "metadata": {
    "collapsed": false,
    "pycharm": {
     "name": "#%%\n"
    }
   }
  },
  {
   "cell_type": "code",
   "execution_count": null,
   "outputs": [],
   "source": [
    "print(articles.head(2))"
   ],
   "metadata": {
    "collapsed": false,
    "pycharm": {
     "name": "#%%\n"
    }
   }
  },
  {
   "cell_type": "code",
   "execution_count": null,
   "outputs": [],
   "source": [
    "!pip install nltk\n",
    "pip install --upgrade git+https://github.com/flairNLP/flair.git"
   ],
   "metadata": {
    "collapsed": false,
    "pycharm": {
     "name": "#%%\n"
    }
   }
  },
  {
   "cell_type": "code",
   "execution_count": null,
   "outputs": [],
   "source": [
    "import torch\n",
    "import flair\n",
    "import nltk"
   ],
   "metadata": {
    "collapsed": false,
    "pycharm": {
     "name": "#%%\n"
    }
   }
  },
  {
   "cell_type": "code",
   "execution_count": null,
   "outputs": [],
   "source": [
    "nltk.download('punkt')"
   ],
   "metadata": {
    "collapsed": false,
    "pycharm": {
     "name": "#%%\n"
    }
   }
  },
  {
   "cell_type": "code",
   "execution_count": null,
   "outputs": [],
   "source": [
    "texts = articles.Text\n",
    "tokenized_sentence_groups = [nltk.tokenize.sent_tokenize(text, 'german') for text in texts]"
   ],
   "metadata": {
    "collapsed": false,
    "pycharm": {
     "name": "#%%\n"
    }
   }
  },
  {
   "cell_type": "code",
   "execution_count": null,
   "outputs": [],
   "source": [
    "article_sentences = []\n",
    "for sentence_group in tokenized_sentence_groups:\n",
    "  current_group = [flair.data.Sentence(sentence, language_code='ger') for sentence in sentence_group]\n",
    "  article_sentences.append(current_group)\n"
   ],
   "metadata": {
    "collapsed": false,
    "pycharm": {
     "name": "#%%\n"
    }
   }
  },
  {
   "cell_type": "code",
   "execution_count": null,
   "outputs": [],
   "source": [
    "del texts\n",
    "print(len(article_sentences))"
   ],
   "metadata": {
    "collapsed": false,
    "pycharm": {
     "name": "#%%\n"
    }
   }
  },
  {
   "cell_type": "code",
   "execution_count": null,
   "outputs": [],
   "source": [
    "flair.device"
   ],
   "metadata": {
    "collapsed": false,
    "pycharm": {
     "name": "#%%\n"
    }
   }
  },
  {
   "cell_type": "code",
   "execution_count": null,
   "outputs": [],
   "source": [
    "tagger = flair.models.SequenceTagger.load('de-ner')"
   ],
   "metadata": {
    "collapsed": false,
    "pycharm": {
     "name": "#%%\n"
    }
   }
  },
  {
   "cell_type": "code",
   "execution_count": null,
   "outputs": [],
   "source": [
    "current = 0\n",
    "total = len(article_sentences)\n",
    "predictions = []\n",
    "for article in article_sentences:\n",
    "  current_prediction = tagger.predict(article)\n",
    "  lables = []\n",
    "  entities = []\n",
    "  for sentence_pred in current_prediction:\n",
    "    ner_dict = sentence_pred.to_dict(tag_type='ner')\n",
    "    lables += ner_dict['labels']\n",
    "    entities += ner_dict['entities']\n",
    "  predictions.append({'labels': lables, 'entities': entities})\n",
    "  current += 1\n",
    "  print(str(current) + \"/\" + str(total))\n",
    "  if current % 1000 == 0:\n",
    "    print(\"Saving file...\")\n",
    "    articles = pandas.DataFrame(articles['ID_Article'])\n",
    "    articles = articles.assign(NEs=pandas.Series(predictions))\n",
    "    articles.to_pickle('/content/gdrive/My Drive/ColabData/stored_ner_result_gpu_' + str(current) + '.pkl')\n",
    "\n",
    "\n",
    "articles = pandas.DataFrame(articles['ID_Article'])\n",
    "articles = articles.assign(NEs=pandas.Series(predictions))\n",
    "articles.to_pickle('/content/gdrive/My Drive/ColabData/stored_ner_result_complete.pkl')\n",
    "print(\"done\")\n"
   ],
   "metadata": {
    "collapsed": false,
    "pycharm": {
     "name": "#%%\n"
    }
   }
  }
 ],
 "metadata": {
  "kernelspec": {
   "display_name": "Python 3",
   "language": "python",
   "name": "python3"
  },
  "language_info": {
   "codemirror_mode": {
    "name": "ipython",
    "version": 2
   },
   "file_extension": ".py",
   "mimetype": "text/x-python",
   "name": "python",
   "nbconvert_exporter": "python",
   "pygments_lexer": "ipython2",
   "version": "2.7.6"
  }
 },
 "nbformat": 4,
 "nbformat_minor": 0
}